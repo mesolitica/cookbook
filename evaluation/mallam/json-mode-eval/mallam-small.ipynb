{
 "cells": [
  {
   "cell_type": "code",
   "execution_count": 38,
   "id": "26c0f5d2",
   "metadata": {},
   "outputs": [],
   "source": [
    "import os\n",
    "from openai import OpenAI\n",
    "\n",
    "# get your api key at https://app.nous.mesolitica.com/\n",
    "\n",
    "os.environ['OPENAI_API_KEY'] = ''\n",
    "\n",
    "client = OpenAI(\n",
    "    base_url=\"https://llm-router.nous.mesolitica.com\",\n",
    ")"
   ]
  },
  {
   "cell_type": "code",
   "execution_count": 11,
   "id": "6bef4e18",
   "metadata": {},
   "outputs": [],
   "source": [
    "# !wget https://huggingface.co/datasets/NousResearch/json-mode-eval/resolve/main/data/train-00000-of-00001.parquet"
   ]
  },
  {
   "cell_type": "code",
   "execution_count": 52,
   "id": "29cedfbf",
   "metadata": {},
   "outputs": [
    {
     "data": {
      "text/html": [
       "<div>\n",
       "<style scoped>\n",
       "    .dataframe tbody tr th:only-of-type {\n",
       "        vertical-align: middle;\n",
       "    }\n",
       "\n",
       "    .dataframe tbody tr th {\n",
       "        vertical-align: top;\n",
       "    }\n",
       "\n",
       "    .dataframe thead th {\n",
       "        text-align: right;\n",
       "    }\n",
       "</style>\n",
       "<table border=\"1\" class=\"dataframe\">\n",
       "  <thead>\n",
       "    <tr style=\"text-align: right;\">\n",
       "      <th></th>\n",
       "      <th>prompt</th>\n",
       "      <th>completion</th>\n",
       "      <th>schema</th>\n",
       "    </tr>\n",
       "  </thead>\n",
       "  <tbody>\n",
       "    <tr>\n",
       "      <th>0</th>\n",
       "      <td>[{'content': 'You are a helpful assistant that...</td>\n",
       "      <td>{\"ssid\": \"OfficeNetSecure\", \"securityProtocol\"...</td>\n",
       "      <td>{\"title\": \"WirelessAccessPoint\", \"type\": \"obje...</td>\n",
       "    </tr>\n",
       "    <tr>\n",
       "      <th>1</th>\n",
       "      <td>[{'content': 'You are a helpful assistant that...</td>\n",
       "      <td>{\"/\": {\"device\": \"/dev/sda1\", \"mount_point\": \"...</td>\n",
       "      <td>{\"$id\": \"https://example.com/fstab\", \"$schema\"...</td>\n",
       "    </tr>\n",
       "    <tr>\n",
       "      <th>2</th>\n",
       "      <td>[{'content': 'You are a helpful assistant that...</td>\n",
       "      <td>{\"campaignID\": \"CAMP123456\", \"productID\": \"PRO...</td>\n",
       "      <td>{\"title\": \"PromotionalCampaign\", \"type\": \"obje...</td>\n",
       "    </tr>\n",
       "    <tr>\n",
       "      <th>3</th>\n",
       "      <td>[{'content': 'You are a helpful assistant that...</td>\n",
       "      <td>{\"reservationID\": \"AH-158394\", \"guestName\": \"A...</td>\n",
       "      <td>{\"title\": \"RestaurantReservation\", \"type\": \"ob...</td>\n",
       "    </tr>\n",
       "    <tr>\n",
       "      <th>4</th>\n",
       "      <td>[{'content': 'You are a helpful assistant that...</td>\n",
       "      <td>{\"HomeImprovement\": {\"room_interest\": \"living ...</td>\n",
       "      <td>{\"type\": \"object\", \"properties\": {\"HomeImprove...</td>\n",
       "    </tr>\n",
       "  </tbody>\n",
       "</table>\n",
       "</div>"
      ],
      "text/plain": [
       "                                              prompt  \\\n",
       "0  [{'content': 'You are a helpful assistant that...   \n",
       "1  [{'content': 'You are a helpful assistant that...   \n",
       "2  [{'content': 'You are a helpful assistant that...   \n",
       "3  [{'content': 'You are a helpful assistant that...   \n",
       "4  [{'content': 'You are a helpful assistant that...   \n",
       "\n",
       "                                          completion  \\\n",
       "0  {\"ssid\": \"OfficeNetSecure\", \"securityProtocol\"...   \n",
       "1  {\"/\": {\"device\": \"/dev/sda1\", \"mount_point\": \"...   \n",
       "2  {\"campaignID\": \"CAMP123456\", \"productID\": \"PRO...   \n",
       "3  {\"reservationID\": \"AH-158394\", \"guestName\": \"A...   \n",
       "4  {\"HomeImprovement\": {\"room_interest\": \"living ...   \n",
       "\n",
       "                                              schema  \n",
       "0  {\"title\": \"WirelessAccessPoint\", \"type\": \"obje...  \n",
       "1  {\"$id\": \"https://example.com/fstab\", \"$schema\"...  \n",
       "2  {\"title\": \"PromotionalCampaign\", \"type\": \"obje...  \n",
       "3  {\"title\": \"RestaurantReservation\", \"type\": \"ob...  \n",
       "4  {\"type\": \"object\", \"properties\": {\"HomeImprove...  "
      ]
     },
     "execution_count": 52,
     "metadata": {},
     "output_type": "execute_result"
    }
   ],
   "source": [
    "import pandas as pd\n",
    "import json\n",
    "import numpy as np\n",
    "\n",
    "df = pd.read_parquet('train-00000-of-00001.parquet')\n",
    "df.head()"
   ]
  },
  {
   "cell_type": "code",
   "execution_count": 57,
   "id": "006a9be1",
   "metadata": {
    "scrolled": true
   },
   "outputs": [
    {
     "data": {
      "text/plain": [
       "{'prompt': array([{'content': \"You are a helpful assistant that answers in JSON. Here's the json schema you must adhere to:\\n<schema>\\n{'$id': 'https://example.com/fstab', '$schema': 'https://json-schema.org/draft/2020-12/schema', 'type': 'object', 'required': ['/'], 'properties': {'/': {'type': 'object', 'properties': {'device': {'type': 'string'}, 'mount_point': {'type': 'string'}, 'file_system_type': {'type': 'string'}, 'options': {'type': 'string'}, 'dump': {'type': 'string', 'pattern': '^[0-1]$'}, 'pass': {'type': 'string', 'pattern': '^[0-2]$'}}, 'required': ['device', 'mount_point', 'file_system_type', 'options', 'dump', 'pass']}}, 'patternProperties': {'^(/[^/]+)+$': {'type': 'object', 'properties': {'device': {'type': 'string'}, 'mount_point': {'type': 'string'}, 'file_system_type': {'type': 'string'}, 'options': {'type': 'string'}, 'dump': {'type': 'string', 'pattern': '^[0-1]$'}, 'pass': {'type': 'string', 'pattern': '^[0-2]$'}}, 'required': ['device', 'mount_point', 'file_system_type', 'options', 'dump', 'pass']}}, 'additionalProperties': False}\\n</schema>\\n\", 'role': 'system'},\n",
       "        {'content': \"I need to create a JSON representation of the /etc/fstab file structure for a project I'm working on. The fstab file contains various mount points with their corresponding file systems, options, dump, and pass values. Could you assist me by providing a JSON Schema that reflects the structure of an fstab file, including the necessary constraints and patterns?\", 'role': 'user'}],\n",
       "       dtype=object),\n",
       " 'completion': '{\"/\": {\"device\": \"/dev/sda1\", \"mount_point\": \"/\", \"file_system_type\": \"ext4\", \"options\": \"defaults\", \"dump\": \"0\", \"pass\": \"1\"}, \"/home\": {\"device\": \"/dev/sda2\", \"mount_point\": \"/home\", \"file_system_type\": \"ext4\", \"options\": \"defaults\", \"dump\": \"0\", \"pass\": \"2\"}, \"/var\": {\"device\": \"UUID=2e9e4e8b-08c0-4c7c-8d7d-2b5f65cc8cd0\", \"mount_point\": \"/var\", \"file_system_type\": \"xfs\", \"options\": \"noatime,nodiratime\", \"dump\": \"0\", \"pass\": \"2\"}}',\n",
       " 'schema': '{\"$id\": \"https://example.com/fstab\", \"$schema\": \"https://json-schema.org/draft/2020-12/schema\", \"type\": \"object\", \"required\": [\"/\"], \"properties\": {\"/\": {\"type\": \"object\", \"properties\": {\"device\": {\"type\": \"string\"}, \"mount_point\": {\"type\": \"string\"}, \"file_system_type\": {\"type\": \"string\"}, \"options\": {\"type\": \"string\"}, \"dump\": {\"type\": \"string\", \"pattern\": \"^[0-1]$\"}, \"pass\": {\"type\": \"string\", \"pattern\": \"^[0-2]$\"}}, \"required\": [\"device\", \"mount_point\", \"file_system_type\", \"options\", \"dump\", \"pass\"]}}, \"patternProperties\": {\"^(/[^/]+)+$\": {\"type\": \"object\", \"properties\": {\"device\": {\"type\": \"string\"}, \"mount_point\": {\"type\": \"string\"}, \"file_system_type\": {\"type\": \"string\"}, \"options\": {\"type\": \"string\"}, \"dump\": {\"type\": \"string\", \"pattern\": \"^[0-1]$\"}, \"pass\": {\"type\": \"string\", \"pattern\": \"^[0-2]$\"}}, \"required\": [\"device\", \"mount_point\", \"file_system_type\", \"options\", \"dump\", \"pass\"]}}, \"additionalProperties\": false}'}"
      ]
     },
     "execution_count": 57,
     "metadata": {},
     "output_type": "execute_result"
    }
   ],
   "source": [
    "row = df.iloc[1].to_dict()\n",
    "row"
   ]
  },
  {
   "cell_type": "code",
   "execution_count": 30,
   "id": "4154a868",
   "metadata": {},
   "outputs": [],
   "source": [
    "response = client.chat.completions.create(\n",
    "    model=\"mallam-small\",\n",
    "    temperature=0.1,\n",
    "    max_tokens=1024,\n",
    "    messages=[\n",
    "    {\n",
    "        \"role\": \"user\",\n",
    "        \"content\": row['prompt'][1]['content']\n",
    "    }\n",
    "],\n",
    "    tools=[row['schema']]\n",
    ")"
   ]
  },
  {
   "cell_type": "code",
   "execution_count": 47,
   "id": "f09e1133",
   "metadata": {},
   "outputs": [
    {
     "data": {
      "text/plain": [
       "{'bandwidth', 'securityProtocol', 'ssid'}"
      ]
     },
     "execution_count": 47,
     "metadata": {},
     "output_type": "execute_result"
    }
   ],
   "source": [
    "set(list(json.loads(response.choices[0].message.content).keys())) & set(list(json.loads(row['completion']).keys()))"
   ]
  },
  {
   "cell_type": "code",
   "execution_count": 58,
   "id": "7f7b8b51",
   "metadata": {},
   "outputs": [
    {
     "name": "stderr",
     "output_type": "stream",
     "text": [
      "100%|██████████████████████████████████████████████████████████████████████████████████████████████████████████████████| 100/100 [05:55<00:00,  3.56s/it]\n"
     ]
    }
   ],
   "source": [
    "from tqdm import tqdm\n",
    "\n",
    "correct, results = [], []\n",
    "for i in tqdm(range(len(df))):\n",
    "    row = df.iloc[i].to_dict()\n",
    "    response = client.chat.completions.create(\n",
    "        model=\"mallam-small\",\n",
    "        temperature=0.1,\n",
    "        max_tokens=1024,\n",
    "        messages=[\n",
    "        {\n",
    "            \"role\": \"user\",\n",
    "            \"content\": row['prompt'][1]['content']\n",
    "        }\n",
    "    ],\n",
    "        tools=[row['schema']]\n",
    "    )\n",
    "    left = set(list(json.loads(response.choices[0].message.content).keys()))\n",
    "    right = set(list(json.loads(row['completion']).keys()))\n",
    "    correct.append(len(left & right) == len(right))\n",
    "    results.append((left, right))"
   ]
  },
  {
   "cell_type": "code",
   "execution_count": 60,
   "id": "7d55d9e5",
   "metadata": {},
   "outputs": [
    {
     "data": {
      "text/plain": [
       "0.65"
      ]
     },
     "execution_count": 60,
     "metadata": {},
     "output_type": "execute_result"
    }
   ],
   "source": [
    "np.mean(correct)"
   ]
  },
  {
   "cell_type": "code",
   "execution_count": null,
   "id": "89f4bf9b",
   "metadata": {},
   "outputs": [],
   "source": []
  }
 ],
 "metadata": {
  "kernelspec": {
   "display_name": "Python 3 (ipykernel)",
   "language": "python",
   "name": "python3"
  },
  "language_info": {
   "codemirror_mode": {
    "name": "ipython",
    "version": 3
   },
   "file_extension": ".py",
   "mimetype": "text/x-python",
   "name": "python",
   "nbconvert_exporter": "python",
   "pygments_lexer": "ipython3",
   "version": "3.8.10"
  }
 },
 "nbformat": 4,
 "nbformat_minor": 5
}
