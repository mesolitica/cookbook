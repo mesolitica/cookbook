{
 "cells": [
  {
   "cell_type": "code",
   "execution_count": 7,
   "id": "41e26c97",
   "metadata": {},
   "outputs": [],
   "source": [
    "import os\n",
    "from openai import OpenAI\n",
    "\n",
    "# get your api key at https://app.nous.mesolitica.com/\n",
    "\n",
    "os.environ['OPENAI_API_KEY'] = ''\n",
    "\n",
    "client = OpenAI(\n",
    "    base_url=\"https://llm-router.nous.mesolitica.com\",\n",
    ")"
   ]
  },
  {
   "cell_type": "code",
   "execution_count": 12,
   "id": "fb79ae48",
   "metadata": {},
   "outputs": [],
   "source": [
    "response = client.chat.completions.create(\n",
    "    model=\"mallam-small\",\n",
    "    temperature=0.1,\n",
    "    max_tokens=1024,\n",
    "    messages=[\n",
    "    {\n",
    "        \"role\": \"user\",\n",
    "        \"content\": \"teks `mu kecek molek sikit`, terjemah dan bagi dalam JSON {'standard_english', 'standard_malay'}\"\n",
    "    }\n",
    "],\n",
    ")"
   ]
  },
  {
   "cell_type": "code",
   "execution_count": 18,
   "id": "a0f30e04",
   "metadata": {},
   "outputs": [
    {
     "data": {
      "text/plain": [
       "{'standard_english': 'Speak a little bit better',\n",
       " 'standard_malay': 'Cakap sedikit lagi baik'}"
      ]
     },
     "execution_count": 18,
     "metadata": {},
     "output_type": "execute_result"
    }
   ],
   "source": [
    "import json\n",
    "\n",
    "json.loads(response.choices[0].message.content)"
   ]
  }
 ],
 "metadata": {
  "kernelspec": {
   "display_name": "Python 3 (ipykernel)",
   "language": "python",
   "name": "python3"
  },
  "language_info": {
   "codemirror_mode": {
    "name": "ipython",
    "version": 3
   },
   "file_extension": ".py",
   "mimetype": "text/x-python",
   "name": "python",
   "nbconvert_exporter": "python",
   "pygments_lexer": "ipython3",
   "version": "3.8.10"
  }
 },
 "nbformat": 4,
 "nbformat_minor": 5
}
