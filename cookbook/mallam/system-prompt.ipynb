{
 "cells": [
  {
   "cell_type": "code",
   "execution_count": 1,
   "id": "41e26c97",
   "metadata": {},
   "outputs": [],
   "source": [
    "import os\n",
    "from openai import OpenAI\n",
    "\n",
    "# get your api key at https://app.nous.mesolitica.com/\n",
    "\n",
    "os.environ['OPENAI_API_KEY'] = ''\n",
    "\n",
    "client = OpenAI(\n",
    "    base_url=\"https://llm-router.nous.mesolitica.com\",\n",
    ")"
   ]
  },
  {
   "cell_type": "markdown",
   "id": "b8bc991f",
   "metadata": {},
   "source": [
    "## System prompt\n",
    "\n",
    "system prompt is very helpful to make your chatbot less hallucinate and give better answers.\n",
    "\n",
    "Let us compare results using system prompt with results not using system prompt."
   ]
  },
  {
   "cell_type": "code",
   "execution_count": 2,
   "id": "fb79ae48",
   "metadata": {},
   "outputs": [
    {
     "data": {
      "text/plain": [
       "'Kerajaan Malaysia telah mengumumkan beberapa inisiatif untuk membantu rakyat yang terjejas akibat pandemik COVID-19. Antara inisiatif tersebut termasuklah bantuan kewangan kepada golongan yang terjejas, penangguhan bayaran pinjaman perumahan, dan pelaksanaan program latihan dan pembangunan kemahiran untuk meningkatkan peluang pekerjaan. Selain itu, kerajaan juga telah melancarkan program vaksinasi secara besar-besaran untuk memastikan keselamatan dan kesihatan rakyat terjamin. Ini adalah beberapa perkembangan terkini yang berkaitan dengan kerajaan Malaysia.'"
      ]
     },
     "execution_count": 2,
     "metadata": {},
     "output_type": "execute_result"
    }
   ],
   "source": [
    "response = client.chat.completions.create(\n",
    "    model=\"mallam-small\",\n",
    "    temperature=0.1,\n",
    "    max_tokens=1024,\n",
    "    messages=[\n",
    "    {\n",
    "        \"role\": \"user\",\n",
    "        \"content\": \"nak berita tentnag kerajaan\"\n",
    "    }\n",
    "],\n",
    ")\n",
    "response.choices[0].message.content"
   ]
  },
  {
   "cell_type": "code",
   "execution_count": 3,
   "id": "a0f30e04",
   "metadata": {},
   "outputs": [
    {
     "data": {
      "text/plain": [
       "'Kerajaan Malaysia telah mengumumkan beberapa inisiatif untuk membantu rakyat dalam menghadapi cabaran ekonomi yang disebabkan oleh pandemik COVID-19. Antara inisiatif tersebut termasuklah:\\n\\n1. Bantuan Prihatin Nasional (BPN) - Bantuan kewangan sebanyak RM1,600 kepada isi rumah berpendapatan bulanan kurang daripada RM4,000 dan RM1,000 kepada isi rumah berpendapatan bulanan antara RM4,001 hingga RM5,000.\\n\\n2. Program Subsidi Upah (PSU) - Subsidi upah sebanyak RM1,200 sebulan bagi pekerja yang menerima gaji kurang daripada RM4,000 dan majikan yang mengalami penurunan pendapatan sebanyak 50%.\\n\\n3. Moratorium Pinjaman - Penangguhan pembayaran pinjaman bank selama 12 bulan bagi individu dan perusahaan yang terjejas akibat pandemik.\\n\\n4. Pakej Rangsangan Ekonomi Prihatin Rakyat (PRIHATIN) - Pakej rangsangan ekonomi bernilai RM250 bilion untuk membantu rakyat, perusahaan dan ekonomi secara keseluruhan.\\n\\n5. Pakej Perlindungan Rakyat dan Pemulihan Ekonomi (PEMULIH) - Pakej rangsangan ekonomi bernilai RM150 bilion untuk membantu rakyat dan perusahaan dalam pemulihan ekonomi.\\n\\nKerajaan juga telah mengambil langkah-langkah lain seperti memperkenalkan Program Perumahan Rakyat (PPR), Program Bantuan Makanan (PBM) dan Program Bantuan Kebajikan (PBK) untuk membantu golongan yang memerlukan.'"
      ]
     },
     "execution_count": 3,
     "metadata": {},
     "output_type": "execute_result"
    }
   ],
   "source": [
    "response = client.chat.completions.create(\n",
    "    model=\"mallam-small\",\n",
    "    temperature=0.1,\n",
    "    max_tokens=1024,\n",
    "    messages=[\n",
    "    {\n",
    "        'role': 'system',\n",
    "        'content': 'Anda adalah chatbot yang berguna dan jawapan anda haruslah tepat.'\n",
    "    },\n",
    "    {\n",
    "        \"role\": \"user\",\n",
    "        \"content\": \"nak berita tentnag kerajaan\"\n",
    "    }\n",
    "],\n",
    ")\n",
    "response.choices[0].message.content"
   ]
  },
  {
   "cell_type": "markdown",
   "id": "8d10c820",
   "metadata": {},
   "source": [
    "As you can see, without system prompt, the chatbot generated not really in depth news."
   ]
  }
 ],
 "metadata": {
  "kernelspec": {
   "display_name": "Python 3 (ipykernel)",
   "language": "python",
   "name": "python3"
  },
  "language_info": {
   "codemirror_mode": {
    "name": "ipython",
    "version": 3
   },
   "file_extension": ".py",
   "mimetype": "text/x-python",
   "name": "python",
   "nbconvert_exporter": "python",
   "pygments_lexer": "ipython3",
   "version": "3.8.10"
  }
 },
 "nbformat": 4,
 "nbformat_minor": 5
}
