{
 "cells": [
  {
   "cell_type": "code",
   "execution_count": 22,
   "id": "4bac9666",
   "metadata": {},
   "outputs": [],
   "source": [
    "import os\n",
    "from openai import OpenAI\n",
    "\n",
    "# get your api key at https://app.nous.mesolitica.com/\n",
    "\n",
    "os.environ['OPENAI_API_KEY'] = ''\n",
    "\n",
    "client = OpenAI(\n",
    "    base_url=\"https://llm-router.nous.mesolitica.com\",\n",
    ")"
   ]
  },
  {
   "cell_type": "code",
   "execution_count": 39,
   "id": "15ae98dd",
   "metadata": {},
   "outputs": [],
   "source": [
    "import requests\n",
    "import json\n",
    "import pprint\n",
    "from bs4 import BeautifulSoup"
   ]
  },
  {
   "cell_type": "code",
   "execution_count": 38,
   "id": "8d3758f9",
   "metadata": {},
   "outputs": [
    {
     "data": {
      "text/plain": [
       "106"
      ]
     },
     "execution_count": 38,
     "metadata": {},
     "output_type": "execute_result"
    }
   ],
   "source": [
    "r = requests.get('https://data.gov.my/data-catalogue')\n",
    "soup = BeautifulSoup(r.content, 'html.parser')\n",
    "a = soup.find_all('a', {'class': 'py-4.5 flex flex-col gap-4 px-5'})\n",
    "a = [a_.get('href').split('/')[-1] for a_ in a]\n",
    "len(a)"
   ]
  },
  {
   "cell_type": "code",
   "execution_count": 15,
   "id": "e72828c9",
   "metadata": {},
   "outputs": [],
   "source": [
    "question = 'saya nak tau populasi malaysia'"
   ]
  },
  {
   "cell_type": "code",
   "execution_count": 24,
   "id": "119d505b",
   "metadata": {},
   "outputs": [],
   "source": [
    "prompt = f\"text '{question}', given label {a}, given the result in JSON {{'label'}}\" \n",
    "response = client.chat.completions.create(\n",
    "    model=\"mallam-small\",\n",
    "    temperature=0.1,\n",
    "    max_tokens=1024,\n",
    "    messages=[\n",
    "    {\n",
    "        \"role\": \"user\",\n",
    "        \"content\": prompt\n",
    "    }\n",
    "],\n",
    ")"
   ]
  },
  {
   "cell_type": "code",
   "execution_count": 41,
   "id": "0ae3527b",
   "metadata": {},
   "outputs": [
    {
     "data": {
      "text/plain": [
       "'population_malaysia'"
      ]
     },
     "execution_count": 41,
     "metadata": {},
     "output_type": "execute_result"
    }
   ],
   "source": [
    "r = json.loads(response.choices[0].message.content)['label']\n",
    "r"
   ]
  },
  {
   "cell_type": "code",
   "execution_count": 42,
   "id": "c746f8d2",
   "metadata": {},
   "outputs": [
    {
     "name": "stdout",
     "output_type": "stream",
     "text": [
      "[{'age': 'overall_age',\n",
      "  'date': '1991-01-01',\n",
      "  'ethnicity': 'overall_ethnicity',\n",
      "  'population': 18547.2,\n",
      "  'sex': 'overall_sex',\n",
      "  'state': 'Malaysia'},\n",
      " {'age': '80-84',\n",
      "  'date': '1991-01-01',\n",
      "  'ethnicity': 'bumi_malay',\n",
      "  'population': 17.9,\n",
      "  'sex': 'female',\n",
      "  'state': 'Malaysia'},\n",
      " {'age': '75-79',\n",
      "  'date': '1991-01-01',\n",
      "  'ethnicity': 'other_noncitizen',\n",
      "  'population': 1.1,\n",
      "  'sex': 'female',\n",
      "  'state': 'Malaysia'}]\n"
     ]
    }
   ],
   "source": [
    "url = f'https://api.data.gov.my/data-catalogue?id={r}&limit=3'\n",
    "\n",
    "response_json = requests.get(url=url).json()\n",
    "pprint.pprint(response_json)"
   ]
  },
  {
   "cell_type": "code",
   "execution_count": null,
   "id": "de87e8f3",
   "metadata": {},
   "outputs": [],
   "source": []
  }
 ],
 "metadata": {
  "kernelspec": {
   "display_name": "Python 3 (ipykernel)",
   "language": "python",
   "name": "python3"
  },
  "language_info": {
   "codemirror_mode": {
    "name": "ipython",
    "version": 3
   },
   "file_extension": ".py",
   "mimetype": "text/x-python",
   "name": "python",
   "nbconvert_exporter": "python",
   "pygments_lexer": "ipython3",
   "version": "3.8.10"
  }
 },
 "nbformat": 4,
 "nbformat_minor": 5
}
