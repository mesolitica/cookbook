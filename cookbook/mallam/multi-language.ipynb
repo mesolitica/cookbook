{
 "cells": [
  {
   "cell_type": "code",
   "execution_count": 1,
   "id": "4bac9666",
   "metadata": {},
   "outputs": [],
   "source": [
    "import os\n",
    "from openai import OpenAI\n",
    "\n",
    "# get your api key at https://app.nous.mesolitica.com/\n",
    "\n",
    "os.environ['OPENAI_API_KEY'] = ''\n",
    "\n",
    "client = OpenAI(\n",
    "    base_url=\"https://llm-router.nous.mesolitica.com\",\n",
    ")"
   ]
  },
  {
   "cell_type": "code",
   "execution_count": 5,
   "id": "119d505b",
   "metadata": {},
   "outputs": [],
   "source": [
    "response = client.chat.completions.create(\n",
    "    model=\"mallam-small\",\n",
    "    temperature=0.1,\n",
    "    max_tokens=1024,\n",
    "    messages=[\n",
    "    {\n",
    "        \"role\": \"system\",\n",
    "        \"content\": 'anda adalah chatbot yang berguna.'\n",
    "    },\n",
    "    {\n",
    "        \"role\": \"user\",\n",
    "        \"content\": 'saya nak tau populasi malaysia'\n",
    "    }\n",
    "],\n",
    ")"
   ]
  },
  {
   "cell_type": "code",
   "execution_count": 6,
   "id": "0ae3527b",
   "metadata": {},
   "outputs": [
    {
     "data": {
      "text/plain": [
       "'Populasi Malaysia adalah kira-kira 32 juta orang. Adakah terdapat perkara lain yang anda ingin tahu?'"
      ]
     },
     "execution_count": 6,
     "metadata": {},
     "output_type": "execute_result"
    }
   ],
   "source": [
    "response.choices[0].message.content"
   ]
  },
  {
   "cell_type": "code",
   "execution_count": 7,
   "id": "de87e8f3",
   "metadata": {},
   "outputs": [],
   "source": [
    "response2 = client.chat.completions.create(\n",
    "    model=\"mallam-small\",\n",
    "    temperature=0.1,\n",
    "    max_tokens=1024,\n",
    "    messages=[\n",
    "    {\n",
    "        \"role\": \"system\",\n",
    "        \"content\": 'anda adalah chatbot yang berguna.'\n",
    "    },\n",
    "    {\n",
    "        \"role\": \"user\",\n",
    "        \"content\": 'saya nak tau populasi malaysia'\n",
    "    },\n",
    "    {\n",
    "        \"role\": \"assistant\",\n",
    "        \"content\": response.choices[0].message.content\n",
    "    },\n",
    "    {\n",
    "        \"role\": \"user\",\n",
    "        \"content\": 'كالاو كت قدح براڤ ڤولا'\n",
    "    },\n",
    "],\n",
    ")"
   ]
  },
  {
   "cell_type": "code",
   "execution_count": 8,
   "id": "727ecfc1",
   "metadata": {},
   "outputs": [
    {
     "data": {
      "text/plain": [
       "'Populasi Kedah adalah kira-kira 2.1 juta orang. Adakah terdapat perkara lain yang anda ingin tahu?'"
      ]
     },
     "execution_count": 8,
     "metadata": {},
     "output_type": "execute_result"
    }
   ],
   "source": [
    "response2.choices[0].message.content"
   ]
  },
  {
   "cell_type": "code",
   "execution_count": 9,
   "id": "418d3c34",
   "metadata": {},
   "outputs": [],
   "source": [
    "response3 = client.chat.completions.create(\n",
    "    model=\"mallam-small\",\n",
    "    temperature=0.1,\n",
    "    max_tokens=1024,\n",
    "    messages=[\n",
    "    {\n",
    "        \"role\": \"system\",\n",
    "        \"content\": 'anda adalah chatbot yang berguna.'\n",
    "    },\n",
    "    {\n",
    "        \"role\": \"user\",\n",
    "        \"content\": 'saya nak tau populasi malaysia'\n",
    "    },\n",
    "    {\n",
    "        \"role\": \"assistant\",\n",
    "        \"content\": response.choices[0].message.content\n",
    "    },\n",
    "    {\n",
    "        \"role\": \"user\",\n",
    "        \"content\": 'كالاو كت قدح براڤ ڤولا'\n",
    "    },\n",
    "    {\n",
    "        \"role\": \"assistant\",\n",
    "        \"content\": response2.choices[0].message.content\n",
    "    },\n",
    "    {\n",
    "        'role': 'user',\n",
    "        'content': '你撒谎'\n",
    "    }\n",
    "],\n",
    ")"
   ]
  },
  {
   "cell_type": "code",
   "execution_count": 10,
   "id": "ac80fd55",
   "metadata": {},
   "outputs": [
    {
     "data": {
      "text/plain": [
       "'Saya memohon maaf jika jawapan saya sebelum ini tidak seperti yang anda jangkakan. Populasi Kedah adalah kira-kira 2.1 juta orang, menurut data terkini. Adakah terdapat perkara lain yang anda ingin tahu?'"
      ]
     },
     "execution_count": 10,
     "metadata": {},
     "output_type": "execute_result"
    }
   ],
   "source": [
    "response3.choices[0].message.content"
   ]
  },
  {
   "cell_type": "code",
   "execution_count": null,
   "id": "4daa58c1",
   "metadata": {},
   "outputs": [],
   "source": []
  }
 ],
 "metadata": {
  "kernelspec": {
   "display_name": "Python 3 (ipykernel)",
   "language": "python",
   "name": "python3"
  },
  "language_info": {
   "codemirror_mode": {
    "name": "ipython",
    "version": 3
   },
   "file_extension": ".py",
   "mimetype": "text/x-python",
   "name": "python",
   "nbconvert_exporter": "python",
   "pygments_lexer": "ipython3",
   "version": "3.8.10"
  }
 },
 "nbformat": 4,
 "nbformat_minor": 5
}
