{
 "cells": [
  {
   "cell_type": "code",
   "execution_count": 1,
   "id": "26c0f5d2",
   "metadata": {},
   "outputs": [],
   "source": [
    "import os\n",
    "from openai import OpenAI\n",
    "\n",
    "# get your api key at https://app.nous.mesolitica.com/\n",
    "\n",
    "os.environ['OPENAI_API_KEY'] = ''\n",
    "\n",
    "client = OpenAI(\n",
    "    base_url=\"https://llm-router.nous.mesolitica.com\",\n",
    ")"
   ]
  },
  {
   "cell_type": "code",
   "execution_count": 2,
   "id": "6bef4e18",
   "metadata": {},
   "outputs": [],
   "source": [
    "# !wget https://huggingface.co/datasets/NousResearch/json-mode-eval/resolve/main/data/train-00000-of-00001.parquet"
   ]
  },
  {
   "cell_type": "code",
   "execution_count": 3,
   "id": "29cedfbf",
   "metadata": {},
   "outputs": [
    {
     "data": {
      "text/html": [
       "<div>\n",
       "<style scoped>\n",
       "    .dataframe tbody tr th:only-of-type {\n",
       "        vertical-align: middle;\n",
       "    }\n",
       "\n",
       "    .dataframe tbody tr th {\n",
       "        vertical-align: top;\n",
       "    }\n",
       "\n",
       "    .dataframe thead th {\n",
       "        text-align: right;\n",
       "    }\n",
       "</style>\n",
       "<table border=\"1\" class=\"dataframe\">\n",
       "  <thead>\n",
       "    <tr style=\"text-align: right;\">\n",
       "      <th></th>\n",
       "      <th>prompt</th>\n",
       "      <th>completion</th>\n",
       "      <th>schema</th>\n",
       "    </tr>\n",
       "  </thead>\n",
       "  <tbody>\n",
       "    <tr>\n",
       "      <th>0</th>\n",
       "      <td>[{'content': 'You are a helpful assistant that...</td>\n",
       "      <td>{\"ssid\": \"OfficeNetSecure\", \"securityProtocol\"...</td>\n",
       "      <td>{\"title\": \"WirelessAccessPoint\", \"type\": \"obje...</td>\n",
       "    </tr>\n",
       "    <tr>\n",
       "      <th>1</th>\n",
       "      <td>[{'content': 'You are a helpful assistant that...</td>\n",
       "      <td>{\"/\": {\"device\": \"/dev/sda1\", \"mount_point\": \"...</td>\n",
       "      <td>{\"$id\": \"https://example.com/fstab\", \"$schema\"...</td>\n",
       "    </tr>\n",
       "    <tr>\n",
       "      <th>2</th>\n",
       "      <td>[{'content': 'You are a helpful assistant that...</td>\n",
       "      <td>{\"campaignID\": \"CAMP123456\", \"productID\": \"PRO...</td>\n",
       "      <td>{\"title\": \"PromotionalCampaign\", \"type\": \"obje...</td>\n",
       "    </tr>\n",
       "    <tr>\n",
       "      <th>3</th>\n",
       "      <td>[{'content': 'You are a helpful assistant that...</td>\n",
       "      <td>{\"reservationID\": \"AH-158394\", \"guestName\": \"A...</td>\n",
       "      <td>{\"title\": \"RestaurantReservation\", \"type\": \"ob...</td>\n",
       "    </tr>\n",
       "    <tr>\n",
       "      <th>4</th>\n",
       "      <td>[{'content': 'You are a helpful assistant that...</td>\n",
       "      <td>{\"HomeImprovement\": {\"room_interest\": \"living ...</td>\n",
       "      <td>{\"type\": \"object\", \"properties\": {\"HomeImprove...</td>\n",
       "    </tr>\n",
       "  </tbody>\n",
       "</table>\n",
       "</div>"
      ],
      "text/plain": [
       "                                              prompt  \\\n",
       "0  [{'content': 'You are a helpful assistant that...   \n",
       "1  [{'content': 'You are a helpful assistant that...   \n",
       "2  [{'content': 'You are a helpful assistant that...   \n",
       "3  [{'content': 'You are a helpful assistant that...   \n",
       "4  [{'content': 'You are a helpful assistant that...   \n",
       "\n",
       "                                          completion  \\\n",
       "0  {\"ssid\": \"OfficeNetSecure\", \"securityProtocol\"...   \n",
       "1  {\"/\": {\"device\": \"/dev/sda1\", \"mount_point\": \"...   \n",
       "2  {\"campaignID\": \"CAMP123456\", \"productID\": \"PRO...   \n",
       "3  {\"reservationID\": \"AH-158394\", \"guestName\": \"A...   \n",
       "4  {\"HomeImprovement\": {\"room_interest\": \"living ...   \n",
       "\n",
       "                                              schema  \n",
       "0  {\"title\": \"WirelessAccessPoint\", \"type\": \"obje...  \n",
       "1  {\"$id\": \"https://example.com/fstab\", \"$schema\"...  \n",
       "2  {\"title\": \"PromotionalCampaign\", \"type\": \"obje...  \n",
       "3  {\"title\": \"RestaurantReservation\", \"type\": \"ob...  \n",
       "4  {\"type\": \"object\", \"properties\": {\"HomeImprove...  "
      ]
     },
     "execution_count": 3,
     "metadata": {},
     "output_type": "execute_result"
    }
   ],
   "source": [
    "import pandas as pd\n",
    "import json\n",
    "import numpy as np\n",
    "\n",
    "df = pd.read_parquet('train-00000-of-00001.parquet')\n",
    "df.head()"
   ]
  },
  {
   "cell_type": "code",
   "execution_count": 8,
   "id": "006a9be1",
   "metadata": {
    "scrolled": true
   },
   "outputs": [
    {
     "data": {
      "text/plain": [
       "{'prompt': array([{'content': \"You are a helpful assistant that answers in JSON. Here's the json schema you must adhere to:\\n<schema>\\n{'title': 'WirelessAccessPoint', 'type': 'object', 'properties': {'ssid': {'title': 'SSID', 'type': 'string'}, 'securityProtocol': {'title': 'SecurityProtocol', 'type': 'string'}, 'bandwidth': {'title': 'Bandwidth', 'type': 'string'}}, 'required': ['ssid', 'securityProtocol', 'bandwidth']}\\n</schema>\\n\", 'role': 'system'},\n",
       "        {'content': \"I'm currently configuring a wireless access point for our office network and I need to generate a JSON object that accurately represents its settings. The access point's SSID should be 'OfficeNetSecure', it uses WPA2-Enterprise as its security protocol, and it's capable of a bandwidth of up to 1300 Mbps on the 5 GHz band. This JSON object will be used to document our network configurations and to automate the setup process for additional access points in the future. Please provide a JSON object that includes these details.\", 'role': 'user'}],\n",
       "       dtype=object),\n",
       " 'completion': '{\"ssid\": \"OfficeNetSecure\", \"securityProtocol\": \"WPA2-Enterprise\", \"bandwidth\": \"1300 Mbps\"}',\n",
       " 'schema': '{\"title\": \"WirelessAccessPoint\", \"type\": \"object\", \"properties\": {\"ssid\": {\"title\": \"SSID\", \"type\": \"string\"}, \"securityProtocol\": {\"title\": \"SecurityProtocol\", \"type\": \"string\"}, \"bandwidth\": {\"title\": \"Bandwidth\", \"type\": \"string\"}}, \"required\": [\"ssid\", \"securityProtocol\", \"bandwidth\"]}'}"
      ]
     },
     "execution_count": 8,
     "metadata": {},
     "output_type": "execute_result"
    }
   ],
   "source": [
    "row = df.iloc[0].to_dict()\n",
    "row"
   ]
  },
  {
   "cell_type": "code",
   "execution_count": 10,
   "id": "4154a868",
   "metadata": {},
   "outputs": [],
   "source": [
    "response = client.chat.completions.create(\n",
    "    model=\"mallam-tiny\",\n",
    "    temperature=0.1,\n",
    "    max_tokens=1024,\n",
    "    messages=[\n",
    "    {\n",
    "        \"role\": \"user\",\n",
    "        \"content\": row['prompt'][0]['content']\n",
    "    }\n",
    "],\n",
    "    tools=[row['schema']]\n",
    ")"
   ]
  },
  {
   "cell_type": "code",
   "execution_count": 11,
   "id": "9e26bd29",
   "metadata": {},
   "outputs": [
    {
     "data": {
      "text/plain": [
       "'{\"ssid\": \"MyWiFi\", \"securityProtocol\": \"WPA2\", \"bandwidth\": \"20Mbps\"}'"
      ]
     },
     "execution_count": 11,
     "metadata": {},
     "output_type": "execute_result"
    }
   ],
   "source": [
    "response.choices[0].message.content"
   ]
  },
  {
   "cell_type": "code",
   "execution_count": 12,
   "id": "f09e1133",
   "metadata": {},
   "outputs": [
    {
     "data": {
      "text/plain": [
       "{'bandwidth', 'securityProtocol', 'ssid'}"
      ]
     },
     "execution_count": 12,
     "metadata": {},
     "output_type": "execute_result"
    }
   ],
   "source": [
    "set(list(json.loads(response.choices[0].message.content).keys())) & set(list(json.loads(row['completion']).keys()))"
   ]
  },
  {
   "cell_type": "code",
   "execution_count": 16,
   "id": "7f7b8b51",
   "metadata": {},
   "outputs": [
    {
     "name": "stderr",
     "output_type": "stream",
     "text": [
      "100%|██████████████████████████████████████████████████████████████████████████████████████████████████████████████████| 100/100 [04:05<00:00,  2.46s/it]\n"
     ]
    }
   ],
   "source": [
    "from tqdm import tqdm\n",
    "\n",
    "correct, results = [], []\n",
    "for i in tqdm(range(len(df))):\n",
    "    row = df.iloc[i].to_dict()\n",
    "    response = client.chat.completions.create(\n",
    "        model=\"mallam-tiny\",\n",
    "        temperature=0.1,\n",
    "        max_tokens=1024,\n",
    "        messages=[\n",
    "        {\n",
    "            \"role\": \"user\",\n",
    "            \"content\": row['prompt'][1]['content']\n",
    "        }\n",
    "    ],\n",
    "        tools=[row['schema']]\n",
    "    )\n",
    "    try:\n",
    "        left = set(list(json.loads(response.choices[0].message.content).keys()))\n",
    "        right = set(list(json.loads(row['completion']).keys()))\n",
    "        correct.append(len(left & right) == len(right))\n",
    "        results.append((left, right))\n",
    "    except:\n",
    "        correct.append(False)"
   ]
  },
  {
   "cell_type": "code",
   "execution_count": 17,
   "id": "7d55d9e5",
   "metadata": {
    "scrolled": true
   },
   "outputs": [
    {
     "data": {
      "text/plain": [
       "0.31"
      ]
     },
     "execution_count": 17,
     "metadata": {},
     "output_type": "execute_result"
    }
   ],
   "source": [
    "np.mean(correct)"
   ]
  },
  {
   "cell_type": "code",
   "execution_count": 18,
   "id": "89f4bf9b",
   "metadata": {},
   "outputs": [
    {
     "data": {
      "text/plain": [
       "0.81"
      ]
     },
     "execution_count": 18,
     "metadata": {},
     "output_type": "execute_result"
    }
   ],
   "source": [
    "len(results) / len(df)"
   ]
  },
  {
   "cell_type": "code",
   "execution_count": null,
   "id": "2d77fe69",
   "metadata": {},
   "outputs": [],
   "source": []
  }
 ],
 "metadata": {
  "kernelspec": {
   "display_name": "Python 3 (ipykernel)",
   "language": "python",
   "name": "python3"
  },
  "language_info": {
   "codemirror_mode": {
    "name": "ipython",
    "version": 3
   },
   "file_extension": ".py",
   "mimetype": "text/x-python",
   "name": "python",
   "nbconvert_exporter": "python",
   "pygments_lexer": "ipython3",
   "version": "3.8.10"
  }
 },
 "nbformat": 4,
 "nbformat_minor": 5
}
