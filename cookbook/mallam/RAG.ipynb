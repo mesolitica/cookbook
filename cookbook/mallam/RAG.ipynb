{
 "cells": [
  {
   "cell_type": "code",
   "execution_count": 1,
   "id": "72ec7e3f",
   "metadata": {},
   "outputs": [],
   "source": [
    "import os\n",
    "from openai import OpenAI\n",
    "\n",
    "# get your api key at https://app.nous.mesolitica.com/\n",
    "\n",
    "os.environ['OPENAI_API_KEY'] = ''\n",
    "\n",
    "client = OpenAI(\n",
    "    base_url=\"https://llm-router.nous.mesolitica.com\",\n",
    ")"
   ]
  },
  {
   "cell_type": "code",
   "execution_count": 3,
   "id": "2b72a5d8",
   "metadata": {},
   "outputs": [],
   "source": [
    "# !wget https://sdb.mosti.gov.my/sdbcms/wp-content/uploads/2024/03/GARIS-PANDUAN-SRF-RFP-2024-v1.pdf"
   ]
  },
  {
   "cell_type": "code",
   "execution_count": 11,
   "id": "eadf1202",
   "metadata": {},
   "outputs": [],
   "source": [
    "import PyPDF2\n",
    "\n",
    "pdf_file = open('GARIS-PANDUAN-SRF-RFP-2024-v1.pdf', 'rb')\n",
    "pdf_reader = PyPDF2.PdfReader(pdf_file)\n",
    "num_pages = len(pdf_reader.pages)\n",
    "\n",
    "text = ''\n",
    "\n",
    "for page_num in range(num_pages // 2):\n",
    "    page = pdf_reader.pages[page_num]\n",
    "    text += page.extract_text()\n",
    "\n",
    "pdf_file.close()"
   ]
  },
  {
   "cell_type": "code",
   "execution_count": 25,
   "id": "3e17b7d6",
   "metadata": {},
   "outputs": [],
   "source": [
    "prompt = 'paragraph `{doc}`\\n\\nUser: {question}'\n",
    "response = client.chat.completions.create(\n",
    "    model=\"mallam-small\",\n",
    "    temperature=0.1,\n",
    "    max_tokens=1024,\n",
    "    messages=[\n",
    "    {\n",
    "        'role': 'system',\n",
    "        'content': 'awak adalah chatbot yang dicipta untuk membantu manusia.'\n",
    "    },\n",
    "    {\n",
    "        \"role\": \"user\",\n",
    "        \"content\": prompt.format(doc = text, question = 'camne nak dapat loa')\n",
    "    }\n",
    "],\n",
    ")"
   ]
  },
  {
   "cell_type": "code",
   "execution_count": 27,
   "id": "fac82b30",
   "metadata": {},
   "outputs": [
    {
     "name": "stdout",
     "output_type": "stream",
     "text": [
      "Untuk mendapatkan Surat Perjanjian Kontrak (LoA) untuk projek SRF-RFP, anda perlu mengikuti langkah berikut:\n",
      "\n",
      "1. Sediakan cadangan projek anda, termasuk butiran tentang objektif projek, metodologi, garis masa dan belanjawan.\n",
      "2. Serahkan cadangan projek anda kepada MOSTI untuk semakan dan kelulusan.\n",
      "3. Setelah cadangan projek anda diluluskan, MOSTI akan menghantar surat pemberitahuan kepada anda dengan butiran tentang LoA.\n",
      "4. Baca dan fahami terma dan syarat LoA dengan teliti.\n",
      "5. Tandatangani LoA dan kembalikan kepada MOSTI.\n",
      "6. Selepas LoA ditandatangani, anda boleh meneruskan projek anda.\n",
      "\n",
      "Adalah penting untuk ambil perhatian bahawa LoA ialah dokumen undang-undang yang mengikat antara anda dan MOSTI, dan ia menggariskan terma dan syarat projek anda. Adalah penting untuk membaca dan memahami LoA dengan teliti sebelum menandatanganinya. Jika anda mempunyai sebarang soalan atau kebimbangan mengenai LoA, anda harus menghubungi MOSTI untuk mendapatkan penjelasan.\n"
     ]
    }
   ],
   "source": [
    "print(response.choices[0].message.content)"
   ]
  },
  {
   "cell_type": "code",
   "execution_count": 28,
   "id": "6fc8d71f",
   "metadata": {},
   "outputs": [],
   "source": [
    "prompt = 'knowledge\\n\\n--------{doc}-------\\n\\nBased on knowledge base above, answer question: {question}'\n",
    "\n",
    "response = client.chat.completions.create(\n",
    "    model=\"mallam-small\",\n",
    "    temperature=0.1,\n",
    "    max_tokens=1024,\n",
    "    messages=[\n",
    "    {\n",
    "        'role': 'system',\n",
    "        'content': 'awak adalah chatbot yang dicipta untuk membantu manusia.'\n",
    "    },\n",
    "    {\n",
    "        \"role\": \"user\",\n",
    "        \"content\": prompt.format(doc = text, question = 'helo')\n",
    "    }\n",
    "],\n",
    ")"
   ]
  },
  {
   "cell_type": "code",
   "execution_count": 29,
   "id": "478a689d",
   "metadata": {},
   "outputs": [
    {
     "name": "stdout",
     "output_type": "stream",
     "text": [
      "Hello! I'm here to help answer any questions you have to the best of my ability. If you have a specific question related to the SRF-RFP guidelines, please let me know and I'll do my best to provide a clear and accurate response.\n"
     ]
    }
   ],
   "source": [
    "print(response.choices[0].message.content)"
   ]
  },
  {
   "cell_type": "code",
   "execution_count": 30,
   "id": "a4f326d3",
   "metadata": {},
   "outputs": [],
   "source": [
    "prompt = 'knowledge\\n\\n--------{doc}-------\\n\\nBased on knowledge base above, answer question: {question}'\n",
    "\n",
    "response = client.chat.completions.create(\n",
    "    model=\"mallam-small\",\n",
    "    temperature=0.1,\n",
    "    max_tokens=1024,\n",
    "    messages=[\n",
    "    {\n",
    "        'role': 'system',\n",
    "        'content': 'awak adalah chatbot yang dicipta untuk membantu manusia.'\n",
    "    },\n",
    "    {\n",
    "        \"role\": \"user\",\n",
    "        \"content\": prompt.format(doc = text, question = 'helo')\n",
    "    },\n",
    "    {\n",
    "        'role': 'assistant',\n",
    "        'content': response.choices[0].message.content\n",
    "    },\n",
    "    {\n",
    "        \"role\": \"user\",\n",
    "        \"content\": 'camne nak dapat loa'\n",
    "    },\n",
    "],\n",
    ")"
   ]
  },
  {
   "cell_type": "code",
   "execution_count": 31,
   "id": "21feb54d",
   "metadata": {},
   "outputs": [
    {
     "name": "stdout",
     "output_type": "stream",
     "text": [
      "Based on the knowledge base provided, it appears that the SRF-RFP guidelines do not explicitly mention the process for obtaining a Letter of Acceptance (LoA). However, it is mentioned that the project must be completed within the specified time frame and that the project team must submit a progress report to MOSTI. It is possible that the LoA may be issued as part of this reporting process.\n",
      "\n",
      "If you are looking for information on how to obtain a LoA for a specific project, I would recommend contacting the relevant organization or agency that is overseeing the project. They should be able to provide you with the necessary information and guidance.\n"
     ]
    }
   ],
   "source": [
    "print(response.choices[0].message.content)"
   ]
  },
  {
   "cell_type": "markdown",
   "id": "377f136d",
   "metadata": {},
   "source": [
    "## Remember\n",
    "\n",
    "RAG is simple, so does the prompt, do not over-complex the prompt."
   ]
  }
 ],
 "metadata": {
  "kernelspec": {
   "display_name": "Python 3 (ipykernel)",
   "language": "python",
   "name": "python3"
  },
  "language_info": {
   "codemirror_mode": {
    "name": "ipython",
    "version": 3
   },
   "file_extension": ".py",
   "mimetype": "text/x-python",
   "name": "python",
   "nbconvert_exporter": "python",
   "pygments_lexer": "ipython3",
   "version": "3.8.10"
  }
 },
 "nbformat": 4,
 "nbformat_minor": 5
}
