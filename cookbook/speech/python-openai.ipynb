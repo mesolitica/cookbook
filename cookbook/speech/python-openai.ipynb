{
 "cells": [
  {
   "cell_type": "code",
   "execution_count": 1,
   "id": "0d92e904",
   "metadata": {},
   "outputs": [],
   "source": [
    "import os\n",
    "\n",
    "os.environ['OPENAI_API_KEY'] = ''"
   ]
  },
  {
   "cell_type": "code",
   "execution_count": 2,
   "id": "60034333",
   "metadata": {},
   "outputs": [],
   "source": [
    "from openai import OpenAI\n",
    "\n",
    "client = OpenAI(\n",
    "    base_url=\"https://api.mesolitica.com\",\n",
    ")"
   ]
  },
  {
   "cell_type": "code",
   "execution_count": 5,
   "id": "5e5c7b65",
   "metadata": {},
   "outputs": [],
   "source": [
    "import requests\n",
    "\n",
    "with open('test.mp3', 'wb') as fopen:\n",
    "    r = requests.get('https://huggingface.co/datasets/mesolitica/speech-test-set/resolve/main/test.mp3')\n",
    "    fopen.write(r._content)"
   ]
  },
  {
   "cell_type": "code",
   "execution_count": 9,
   "id": "87bdd8b9",
   "metadata": {},
   "outputs": [
    {
     "data": {
      "text/plain": [
       "' Assembly on Aging di Vienna, Austria yang telah diadakan pada tahun 1982 dan berasaskan unjuran tersebut maka Jabatan Perangkaan Malaysia menganggarkan menjelang tahun 2035 sejumlah 15% penduduk kita adalah daripada kalangan warga emas untuk makluman Tuan Yang Putuwa dan juga Aliam Bohmat pembangunan sistem pendaftaran warga emas ataupun kita sebutkan IWEN'"
      ]
     },
     "execution_count": 9,
     "metadata": {},
     "output_type": "execute_result"
    }
   ],
   "source": [
    "audio_file = open(\"test.mp3\", \"rb\")\n",
    "response = client.audio.transcriptions.create(\n",
    "    file=audio_file,\n",
    "    model=\"base\",\n",
    "    language=\"ms\"\n",
    ")\n",
    "response"
   ]
  },
  {
   "cell_type": "code",
   "execution_count": null,
   "id": "5ae9e99e",
   "metadata": {},
   "outputs": [],
   "source": []
  }
 ],
 "metadata": {
  "kernelspec": {
   "display_name": "python3.10",
   "language": "python",
   "name": "python3.10"
  },
  "language_info": {
   "codemirror_mode": {
    "name": "ipython",
    "version": 3
   },
   "file_extension": ".py",
   "mimetype": "text/x-python",
   "name": "python",
   "nbconvert_exporter": "python",
   "pygments_lexer": "ipython3",
   "version": "3.10.14"
  }
 },
 "nbformat": 4,
 "nbformat_minor": 5
}
